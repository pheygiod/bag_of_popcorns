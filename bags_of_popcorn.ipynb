{
 "cells": [
  {
   "cell_type": "markdown",
   "id": "04fd3194-27a4-40e9-9870-dc9ebb9af79b",
   "metadata": {},
   "source": [
    "# Bag of Words Meets Bags of Popcorn: Use Google's Word2Vec for movie reviews"
   ]
  },
  {
   "cell_type": "markdown",
   "id": "d8b31a87-e56d-4141-af10-d2f1c634e0f3",
   "metadata": {},
   "source": [
    "## Introduction"
   ]
  },
  {
   "cell_type": "markdown",
   "id": "81e3ca57-dcd8-4a5e-be94-d7847391d2c1",
   "metadata": {},
   "source": [
    "The purpose of this project is to understand the sentiments behind IBDM movie reviews. Sentiment analysis is a challenging topic in machine learning. The way people express their emotions can often be obscured by ambiguity, pun words, and sarcasm, which can eventually mislead both humans and computers. \n",
    "\n",
    "The approach we will take to reach our goal is to use Google's Word2Vec, a deep-learning method that investigates on the meaning behind words. Firstly, we will load and clean the 25,000 IMDB movie review, then apply a simple natural language processing model called Bag of Words to get predictions on whether the review is positive or negative. \n",
    "\n",
    "The most important results we found are the following:\n",
    "- The model initially scored 0.79824 in prediction accuracy. The gfeature engineering techniques used included: removing HTML markups, punctuations, numbers, and stopwords.\n",
    "- The model eventually reached a 0.84412 accuracy score. This might be because Porter Stemming, an additional feature engineering technique, was used to train the model. However, it must be mentioned that this result is not statistically significant. Every model comes with a degree of randomness, and this might be the actual reason why there has been a slight increase in the final score.  \n",
    "- Further steps to improve the accuracy estimation process include but are not limited to: training the model numerous times, using different random seeds, using different shuffling of the training and testing data, and get an estimate of the mean performance and the standard deviation performance. \n",
    "- Other feature engineering techniques to use can be: cleaning the reviews in an alternative way, choosing other number of vocabulary words for the Bag of Words representation, or using another classifier. "
   ]
  },
  {
   "cell_type": "markdown",
   "id": "4f37ce0f-f242-4608-84a9-92fa9cafb55f",
   "metadata": {},
   "source": [
    "## Reading in the Data"
   ]
  },
  {
   "cell_type": "markdown",
   "id": "6dc64da4-181c-41f4-9daf-d854198ffbd1",
   "metadata": {},
   "source": [
    "Let's go ahead and tidy up the text of our movie reviews for machine learning. As of now, we'll remove HTML tags such as abbreviations and punctuations."
   ]
  },
  {
   "cell_type": "code",
   "execution_count": 1,
   "id": "aa286bac-f07e-4a35-9a6c-25256f2417d1",
   "metadata": {
    "tags": []
   },
   "outputs": [],
   "source": [
    "from bs4 import BeautifulSoup  \n",
    "from IPython.display import Image, display\n",
    "import nltk\n",
    "from nltk.corpus import stopwords\n",
    "import pandas as pd\n",
    "import re\n",
    "from sklearn.feature_extraction.text import CountVectorizer"
   ]
  },
  {
   "cell_type": "code",
   "execution_count": 2,
   "id": "65b605a0-9fc9-4e69-9335-70ef9e15d387",
   "metadata": {},
   "outputs": [],
   "source": [
    "# Reading in the data\n",
    "train = pd.read_csv(\"/Users/giorgiadimiccoli/Desktop/repos/my_projects/data/bags_of_popcorn/word2vec-nlp-tutorial/labeledTrainData.tsv.zip\", header=0, \\\n",
    "                    delimiter=\"\\t\", quoting=3) # header set as 0 since first line contains column names; quoting=3 tells Python to ignore doubled quotes to prevent errors "
   ]
  },
  {
   "cell_type": "code",
   "execution_count": 3,
   "id": "15d2b8c3-b87d-448b-a891-27a8c5fb10bb",
   "metadata": {},
   "outputs": [
    {
     "name": "stdout",
     "output_type": "stream",
     "text": [
      "\"With all this stuff going down at the moment with MJ i've started listening to his music, watching the odd documentary here and there, watched The Wiz and watched Moonwalker again. Maybe i just want to get a certain insight into this guy who i thought was really cool in the eighties just to maybe make up my mind whether he is guilty or innocent. Moonwalker is part biography, part feature film which i remember going to see at the cinema when it was originally released. Some of it has subtle messages about MJ's feeling towards the press and also the obvious message of drugs are bad m'kay.<br /><br />Visually impressive but of course this is all about Michael Jackson so unless you remotely like MJ in anyway then you are going to hate this and find it boring. Some may call MJ an egotist for consenting to the making of this movie BUT MJ and most of his fans would say that he made it for the fans which if true is really nice of him.<br /><br />The actual feature film bit when it finally starts is only on for 20 minutes or so excluding the Smooth Criminal sequence and Joe Pesci is convincing as a psychopathic all powerful drug lord. Why he wants MJ dead so bad is beyond me. Because MJ overheard his plans? Nah, Joe Pesci's character ranted that he wanted people to know it is he who is supplying drugs etc so i dunno, maybe he just hates MJ's music.<br /><br />Lots of cool things in this like MJ turning into a car and a robot and the whole Speed Demon sequence. Also, the director must have had the patience of a saint when it came to filming the kiddy Bad sequence as usually directors hate working with one kid let alone a whole bunch of them performing a complex dance scene.<br /><br />Bottom line, this movie is for people who like MJ on one level or another (which i think is most people). If not, then stay away. It does try and give off a wholesome message and ironically MJ's bestest buddy in this movie is a girl! Michael Jackson is truly one of the most talented people ever to grace this planet but is he guilty? Well, with all the attention i've gave this subject....hmmm well i don't know because people can be different behind closed doors, i know this for a fact. He is either an extremely nice but stupid guy or one of the most sickest liars. I hope he is not the latter.\"\n"
     ]
    }
   ],
   "source": [
    "# Exploring the movie reviews\n",
    "print(train['review'][0])"
   ]
  },
  {
   "cell_type": "markdown",
   "id": "b8d2482f-5122-4023-9122-8725d6a09da0",
   "metadata": {},
   "source": [
    "## Data Cleaning and Text Preprocessing\n",
    "### Removing HTML Markup: The BeautifulSoup Package"
   ]
  },
  {
   "cell_type": "code",
   "execution_count": 4,
   "id": "09f3f76a-8751-40c5-8c17-a512a9251538",
   "metadata": {},
   "outputs": [
    {
     "name": "stdout",
     "output_type": "stream",
     "text": [
      "\"With all this stuff going down at the moment with MJ i've started listening to his music, watching the odd documentary here and there, watched The Wiz and watched Moonwalker again. Maybe i just want to get a certain insight into this guy who i thought was really cool in the eighties just to maybe make up my mind whether he is guilty or innocent. Moonwalker is part biography, part feature film which i remember going to see at the cinema when it was originally released. Some of it has subtle messages about MJ's feeling towards the press and also the obvious message of drugs are bad m'kay.<br /><br />Visually impressive but of course this is all about Michael Jackson so unless you remotely like MJ in anyway then you are going to hate this and find it boring. Some may call MJ an egotist for consenting to the making of this movie BUT MJ and most of his fans would say that he made it for the fans which if true is really nice of him.<br /><br />The actual feature film bit when it finally starts is only on for 20 minutes or so excluding the Smooth Criminal sequence and Joe Pesci is convincing as a psychopathic all powerful drug lord. Why he wants MJ dead so bad is beyond me. Because MJ overheard his plans? Nah, Joe Pesci's character ranted that he wanted people to know it is he who is supplying drugs etc so i dunno, maybe he just hates MJ's music.<br /><br />Lots of cool things in this like MJ turning into a car and a robot and the whole Speed Demon sequence. Also, the director must have had the patience of a saint when it came to filming the kiddy Bad sequence as usually directors hate working with one kid let alone a whole bunch of them performing a complex dance scene.<br /><br />Bottom line, this movie is for people who like MJ on one level or another (which i think is most people). If not, then stay away. It does try and give off a wholesome message and ironically MJ's bestest buddy in this movie is a girl! Michael Jackson is truly one of the most talented people ever to grace this planet but is he guilty? Well, with all the attention i've gave this subject....hmmm well i don't know because people can be different behind closed doors, i know this for a fact. He is either an extremely nice but stupid guy or one of the most sickest liars. I hope he is not the latter.\"\n",
      "\"With all this stuff going down at the moment with MJ i've started listening to his music, watching the odd documentary here and there, watched The Wiz and watched Moonwalker again. Maybe i just want to get a certain insight into this guy who i thought was really cool in the eighties just to maybe make up my mind whether he is guilty or innocent. Moonwalker is part biography, part feature film which i remember going to see at the cinema when it was originally released. Some of it has subtle messages about MJ's feeling towards the press and also the obvious message of drugs are bad m'kay.Visually impressive but of course this is all about Michael Jackson so unless you remotely like MJ in anyway then you are going to hate this and find it boring. Some may call MJ an egotist for consenting to the making of this movie BUT MJ and most of his fans would say that he made it for the fans which if true is really nice of him.The actual feature film bit when it finally starts is only on for 20 minutes or so excluding the Smooth Criminal sequence and Joe Pesci is convincing as a psychopathic all powerful drug lord. Why he wants MJ dead so bad is beyond me. Because MJ overheard his plans? Nah, Joe Pesci's character ranted that he wanted people to know it is he who is supplying drugs etc so i dunno, maybe he just hates MJ's music.Lots of cool things in this like MJ turning into a car and a robot and the whole Speed Demon sequence. Also, the director must have had the patience of a saint when it came to filming the kiddy Bad sequence as usually directors hate working with one kid let alone a whole bunch of them performing a complex dance scene.Bottom line, this movie is for people who like MJ on one level or another (which i think is most people). If not, then stay away. It does try and give off a wholesome message and ironically MJ's bestest buddy in this movie is a girl! Michael Jackson is truly one of the most talented people ever to grace this planet but is he guilty? Well, with all the attention i've gave this subject....hmmm well i don't know because people can be different behind closed doors, i know this for a fact. He is either an extremely nice but stupid guy or one of the most sickest liars. I hope he is not the latter.\"\n"
     ]
    }
   ],
   "source": [
    "# Removing HTML markups \n",
    "example1 = BeautifulSoup(train[\"review\"][0]) # Initializing the BeautifulSoup object on a single movie review     \n",
    "\n",
    "# Printing the raw review and then the output of get_text() for comparison\n",
    "print(train[\"review\"][0])\n",
    "print(example1.get_text()) # get_text gives us the text of the review without any tags or markups "
   ]
  },
  {
   "cell_type": "markdown",
   "id": "f60decc8-69cb-41fc-ba7c-5a934a8574f4",
   "metadata": {},
   "source": [
    "Now that we've tidied up the reviews, we can carry on with our data cleansing by dealing with numbers, uppercase letters, and stopwords. "
   ]
  },
  {
   "cell_type": "markdown",
   "id": "89a6951b-7bdf-4388-afa6-9fcbab6da3a2",
   "metadata": {},
   "source": [
    "### Dealing with Punctuation, Numbers and Stopwords: NLTK and regular expressions"
   ]
  },
  {
   "cell_type": "code",
   "execution_count": 5,
   "id": "191f7756-20de-4711-8110-e5570617149f",
   "metadata": {},
   "outputs": [
    {
     "name": "stdout",
     "output_type": "stream",
     "text": [
      " With all this stuff going down at the moment with MJ i ve started listening to his music  watching the odd documentary here and there  watched The Wiz and watched Moonwalker again  Maybe i just want to get a certain insight into this guy who i thought was really cool in the eighties just to maybe make up my mind whether he is guilty or innocent  Moonwalker is part biography  part feature film which i remember going to see at the cinema when it was originally released  Some of it has subtle messages about MJ s feeling towards the press and also the obvious message of drugs are bad m kay Visually impressive but of course this is all about Michael Jackson so unless you remotely like MJ in anyway then you are going to hate this and find it boring  Some may call MJ an egotist for consenting to the making of this movie BUT MJ and most of his fans would say that he made it for the fans which if true is really nice of him The actual feature film bit when it finally starts is only on for    minutes or so excluding the Smooth Criminal sequence and Joe Pesci is convincing as a psychopathic all powerful drug lord  Why he wants MJ dead so bad is beyond me  Because MJ overheard his plans  Nah  Joe Pesci s character ranted that he wanted people to know it is he who is supplying drugs etc so i dunno  maybe he just hates MJ s music Lots of cool things in this like MJ turning into a car and a robot and the whole Speed Demon sequence  Also  the director must have had the patience of a saint when it came to filming the kiddy Bad sequence as usually directors hate working with one kid let alone a whole bunch of them performing a complex dance scene Bottom line  this movie is for people who like MJ on one level or another  which i think is most people   If not  then stay away  It does try and give off a wholesome message and ironically MJ s bestest buddy in this movie is a girl  Michael Jackson is truly one of the most talented people ever to grace this planet but is he guilty  Well  with all the attention i ve gave this subject    hmmm well i don t know because people can be different behind closed doors  i know this for a fact  He is either an extremely nice but stupid guy or one of the most sickest liars  I hope he is not the latter  \n"
     ]
    }
   ],
   "source": [
    "# Using regular expressions to do a find-and-replace\n",
    "letters_only = re.sub(\"[^a-zA-Z]\",           # The pattern to search for\n",
    "                      \" \",                   # The pattern to replace it with\n",
    "                      example1.get_text() )  # The text to search\n",
    "print(letters_only)"
   ]
  },
  {
   "cell_type": "code",
   "execution_count": 6,
   "id": "5993197a-d8a2-47b7-a034-4c6bf914b516",
   "metadata": {},
   "outputs": [],
   "source": [
    "# Converting movie reviews to lower case and splitting them into individual words (i.e., tokenisation)\n",
    "lower_case = letters_only.lower()        # Convert to lower case\n",
    "words = lower_case.split()               # Split into words"
   ]
  },
  {
   "cell_type": "code",
   "execution_count": 7,
   "id": "9283b466-6d2b-47f0-8119-6823546a774b",
   "metadata": {},
   "outputs": [
    {
     "name": "stdout",
     "output_type": "stream",
     "text": [
      "['i', 'me', 'my', 'myself', 'we', 'our', 'ours', 'ourselves', 'you', \"you're\", \"you've\", \"you'll\", \"you'd\", 'your', 'yours', 'yourself', 'yourselves', 'he', 'him', 'his', 'himself', 'she', \"she's\", 'her', 'hers', 'herself', 'it', \"it's\", 'its', 'itself', 'they', 'them', 'their', 'theirs', 'themselves', 'what', 'which', 'who', 'whom', 'this', 'that', \"that'll\", 'these', 'those', 'am', 'is', 'are', 'was', 'were', 'be', 'been', 'being', 'have', 'has', 'had', 'having', 'do', 'does', 'did', 'doing', 'a', 'an', 'the', 'and', 'but', 'if', 'or', 'because', 'as', 'until', 'while', 'of', 'at', 'by', 'for', 'with', 'about', 'against', 'between', 'into', 'through', 'during', 'before', 'after', 'above', 'below', 'to', 'from', 'up', 'down', 'in', 'out', 'on', 'off', 'over', 'under', 'again', 'further', 'then', 'once', 'here', 'there', 'when', 'where', 'why', 'how', 'all', 'any', 'both', 'each', 'few', 'more', 'most', 'other', 'some', 'such', 'no', 'nor', 'not', 'only', 'own', 'same', 'so', 'than', 'too', 'very', 's', 't', 'can', 'will', 'just', 'don', \"don't\", 'should', \"should've\", 'now', 'd', 'll', 'm', 'o', 're', 've', 'y', 'ain', 'aren', \"aren't\", 'couldn', \"couldn't\", 'didn', \"didn't\", 'doesn', \"doesn't\", 'hadn', \"hadn't\", 'hasn', \"hasn't\", 'haven', \"haven't\", 'isn', \"isn't\", 'ma', 'mightn', \"mightn't\", 'mustn', \"mustn't\", 'needn', \"needn't\", 'shan', \"shan't\", 'shouldn', \"shouldn't\", 'wasn', \"wasn't\", 'weren', \"weren't\", 'won', \"won't\", 'wouldn', \"wouldn't\"]\n"
     ]
    }
   ],
   "source": [
    "# Getting a list of stop words \n",
    "print(stopwords.words(\"english\")) "
   ]
  },
  {
   "cell_type": "code",
   "execution_count": 8,
   "id": "1ad4fa93-9b25-4dd2-a09b-ee246106d5e0",
   "metadata": {},
   "outputs": [
    {
     "name": "stdout",
     "output_type": "stream",
     "text": [
      "['stuff', 'going', 'moment', 'mj', 'started', 'listening', 'music', 'watching', 'odd', 'documentary', 'watched', 'wiz', 'watched', 'moonwalker', 'maybe', 'want', 'get', 'certain', 'insight', 'guy', 'thought', 'really', 'cool', 'eighties', 'maybe', 'make', 'mind', 'whether', 'guilty', 'innocent', 'moonwalker', 'part', 'biography', 'part', 'feature', 'film', 'remember', 'going', 'see', 'cinema', 'originally', 'released', 'subtle', 'messages', 'mj', 'feeling', 'towards', 'press', 'also', 'obvious', 'message', 'drugs', 'bad', 'kay', 'visually', 'impressive', 'course', 'michael', 'jackson', 'unless', 'remotely', 'like', 'mj', 'anyway', 'going', 'hate', 'find', 'boring', 'may', 'call', 'mj', 'egotist', 'consenting', 'making', 'movie', 'mj', 'fans', 'would', 'say', 'made', 'fans', 'true', 'really', 'nice', 'actual', 'feature', 'film', 'bit', 'finally', 'starts', 'minutes', 'excluding', 'smooth', 'criminal', 'sequence', 'joe', 'pesci', 'convincing', 'psychopathic', 'powerful', 'drug', 'lord', 'wants', 'mj', 'dead', 'bad', 'beyond', 'mj', 'overheard', 'plans', 'nah', 'joe', 'pesci', 'character', 'ranted', 'wanted', 'people', 'know', 'supplying', 'drugs', 'etc', 'dunno', 'maybe', 'hates', 'mj', 'music', 'lots', 'cool', 'things', 'like', 'mj', 'turning', 'car', 'robot', 'whole', 'speed', 'demon', 'sequence', 'also', 'director', 'must', 'patience', 'saint', 'came', 'filming', 'kiddy', 'bad', 'sequence', 'usually', 'directors', 'hate', 'working', 'one', 'kid', 'let', 'alone', 'whole', 'bunch', 'performing', 'complex', 'dance', 'scene', 'bottom', 'line', 'movie', 'people', 'like', 'mj', 'one', 'level', 'another', 'think', 'people', 'stay', 'away', 'try', 'give', 'wholesome', 'message', 'ironically', 'mj', 'bestest', 'buddy', 'movie', 'girl', 'michael', 'jackson', 'truly', 'one', 'talented', 'people', 'ever', 'grace', 'planet', 'guilty', 'well', 'attention', 'gave', 'subject', 'hmmm', 'well', 'know', 'people', 'different', 'behind', 'closed', 'doors', 'know', 'fact', 'either', 'extremely', 'nice', 'stupid', 'guy', 'one', 'sickest', 'liars', 'hope', 'latter']\n"
     ]
    }
   ],
   "source": [
    "# Removing stop words from \"words\"\n",
    "words = [w for w in words if not w in stopwords.words(\"english\")]\n",
    "print(words)"
   ]
  },
  {
   "cell_type": "code",
   "execution_count": 9,
   "id": "c4b32d5a-a4d1-418d-be89-774760b58d9f",
   "metadata": {},
   "outputs": [
    {
     "name": "stdout",
     "output_type": "stream",
     "text": [
      "['actual', 'alone', 'also', 'another', 'anyway', 'attention', 'away', 'bad', 'behind', 'bestest', 'beyond', 'biography', 'bit', 'boring', 'bottom', 'buddy', 'bunch', 'call', 'came', 'car', 'certain', 'character', 'cinema', 'closed', 'complex', 'consenting', 'convincing', 'cool', 'course', 'criminal', 'dance', 'dead', 'demon', 'different', 'director', 'directors', 'documentary', 'doors', 'drug', 'drugs', 'dunno', 'egotist', 'eighties', 'either', 'etc', 'ever', 'excluding', 'extremely', 'fact', 'fans', 'feature', 'feeling', 'film', 'filming', 'finally', 'find', 'gave', 'get', 'girl', 'give', 'going', 'grace', 'guilty', 'guy', 'hate', 'hates', 'hmmm', 'hope', 'impressive', 'innocent', 'insight', 'ironically', 'jackson', 'joe', 'kay', 'kid', 'kiddy', 'know', 'latter', 'let', 'level', 'liars', 'like', 'line', 'listening', 'lord', 'lots', 'made', 'make', 'making', 'may', 'maybe', 'message', 'messages', 'michael', 'mind', 'minutes', 'mj', 'moment', 'moonwalker', 'movie', 'music', 'must', 'nah', 'nice', 'obvious', 'odd', 'one', 'originally', 'overheard', 'part', 'patience', 'people', 'performing', 'pesci', 'planet', 'plans', 'powerful', 'press', 'psychopathic', 'ranted', 'really', 'released', 'remember', 'remotely', 'robot', 'saint', 'say', 'scene', 'see', 'sequence', 'sickest', 'smooth', 'speed', 'started', 'starts', 'stay', 'stuff', 'stupid', 'subject', 'subtle', 'supplying', 'talented', 'things', 'think', 'thought', 'towards', 'true', 'truly', 'try', 'turning', 'unless', 'usually', 'visually', 'want', 'wanted', 'wants', 'watched', 'watching', 'well', 'whether', 'whole', 'wholesome', 'wiz', 'working', 'would']\n"
     ]
    }
   ],
   "source": [
    "# Removing duplicates from \"words\" and sorting them in alphabetical order \n",
    "new_list = list(sorted(set(words)))\n",
    "print(new_list)"
   ]
  },
  {
   "cell_type": "markdown",
   "id": "b9705162-89dc-4ec4-adae-7311db0ca660",
   "metadata": {},
   "source": [
    "### Putting it all together"
   ]
  },
  {
   "cell_type": "markdown",
   "id": "48cd6636-c54b-4454-a56f-0d1acc19082b",
   "metadata": {},
   "source": [
    "Now that we've dealt with numbers, uppercase letters, and stopwords, we can create a function that combines all these actions together so that we can apply them on each move reviews and create a string of words. We'll do that by initiating a for loop. "
   ]
  },
  {
   "cell_type": "code",
   "execution_count": 10,
   "id": "6332a4f0-4be3-4183-8aca-a1a1149e1bb1",
   "metadata": {},
   "outputs": [],
   "source": [
    "# Creating a function that converts a raw review into a string of words \n",
    "def review_to_words(raw_review):\n",
    "    \n",
    "    # Removing HTML\n",
    "    review_text = BeautifulSoup(raw_review).get_text() # get_text gives us the text of the review without any tags or markups \n",
    "    \n",
    "    # Removing non-letters        \n",
    "    letters_only = re.sub(\"[^a-zA-Z]\", \" \", review_text) \n",
    "    \n",
    "    # Converting to lower case and splitting into individual words\n",
    "    words = letters_only.lower().split()                             \n",
    "    \n",
    "    # Converting the stop words to a set\n",
    "    stops = set(stopwords.words(\"english\")) # searching a set is much faster than searching a list since it removes duplicates\n",
    "    \n",
    "    # Removing stop words\n",
    "    meaningful_words = [w for w in words if not w in stops]  \n",
    "        \n",
    "    # Joining the words back into one string separated by space\n",
    "    return(\" \".join(meaningful_words)) # making the output easier to use in our Bag of Words "
   ]
  },
  {
   "cell_type": "code",
   "execution_count": 11,
   "id": "59298fb9-13f4-4834-9c94-d56598e2f103",
   "metadata": {},
   "outputs": [
    {
     "name": "stdout",
     "output_type": "stream",
     "text": [
      "stuff going moment mj started listening music watching odd documentary watched wiz watched moonwalker maybe want get certain insight guy thought really cool eighties maybe make mind whether guilty innocent moonwalker part biography part feature film remember going see cinema originally released subtle messages mj feeling towards press also obvious message drugs bad kay visually impressive course michael jackson unless remotely like mj anyway going hate find boring may call mj egotist consenting making movie mj fans would say made fans true really nice actual feature film bit finally starts minutes excluding smooth criminal sequence joe pesci convincing psychopathic powerful drug lord wants mj dead bad beyond mj overheard plans nah joe pesci character ranted wanted people know supplying drugs etc dunno maybe hates mj music lots cool things like mj turning car robot whole speed demon sequence also director must patience saint came filming kiddy bad sequence usually directors hate working one kid let alone whole bunch performing complex dance scene bottom line movie people like mj one level another think people stay away try give wholesome message ironically mj bestest buddy movie girl michael jackson truly one talented people ever grace planet guilty well attention gave subject hmmm well know people different behind closed doors know fact either extremely nice stupid guy one sickest liars hope latter\n"
     ]
    }
   ],
   "source": [
    "# Calling the function for a single review\n",
    "clean_review = review_to_words(train[\"review\"][0])\n",
    "print(clean_review)"
   ]
  },
  {
   "cell_type": "code",
   "execution_count": 12,
   "id": "02493672-ea8f-4199-9778-27b49278ac0a",
   "metadata": {},
   "outputs": [
    {
     "name": "stdout",
     "output_type": "stream",
     "text": [
      "Cleaning and parsing the training set movie reviews...\n",
      "\n"
     ]
    },
    {
     "name": "stderr",
     "output_type": "stream",
     "text": [
      "/opt/homebrew/anaconda3/lib/python3.9/site-packages/bs4/__init__.py:435: MarkupResemblesLocatorWarning: The input looks more like a filename than markup. You may want to open this file and pass the filehandle into Beautiful Soup.\n",
      "  warnings.warn(\n"
     ]
    },
    {
     "name": "stdout",
     "output_type": "stream",
     "text": [
      "Review 1000 of 25000\n",
      "\n",
      "Review 2000 of 25000\n",
      "\n",
      "Review 3000 of 25000\n",
      "\n",
      "Review 4000 of 25000\n",
      "\n",
      "Review 5000 of 25000\n",
      "\n",
      "Review 6000 of 25000\n",
      "\n",
      "Review 7000 of 25000\n",
      "\n",
      "Review 8000 of 25000\n",
      "\n",
      "Review 9000 of 25000\n",
      "\n",
      "Review 10000 of 25000\n",
      "\n",
      "Review 11000 of 25000\n",
      "\n",
      "Review 12000 of 25000\n",
      "\n",
      "Review 13000 of 25000\n",
      "\n",
      "Review 14000 of 25000\n",
      "\n",
      "Review 15000 of 25000\n",
      "\n",
      "Review 16000 of 25000\n",
      "\n",
      "Review 17000 of 25000\n",
      "\n",
      "Review 18000 of 25000\n",
      "\n",
      "Review 19000 of 25000\n",
      "\n",
      "Review 20000 of 25000\n",
      "\n",
      "Review 21000 of 25000\n",
      "\n",
      "Review 22000 of 25000\n",
      "\n",
      "Review 23000 of 25000\n",
      "\n",
      "Review 24000 of 25000\n",
      "\n",
      "Review 25000 of 25000\n",
      "\n"
     ]
    }
   ],
   "source": [
    "# Getting the number of reviews based on the dataframe column size\n",
    "num_reviews = train[\"review\"].size\n",
    "\n",
    "# Initializing an empty list to hold the cleansed reviews\n",
    "print(\"Cleaning and parsing the training set movie reviews...\\n\") # this will make the output easier to use in our Bag of Words \n",
    "clean_train_reviews = [] \n",
    "\n",
    "# Looping over each review\n",
    "for i in range(0, num_reviews): # creating an index i that goes from 0 to the length of the movie review list\n",
    "    if( (i+1)%1000 == 0): # if the index is evenly divisible by 1000, print a message\n",
    "        print(\"Review %d of %d\\n\" % ( i+1, num_reviews )) # printing a status update to avoid annoyances \n",
    "    # Calling our function for each one, and appending the result to the list of cleansed reviews \n",
    "    clean_train_reviews.append(review_to_words(train[\"review\"][i])) "
   ]
  },
  {
   "cell_type": "markdown",
   "id": "72390d36-ff89-47fd-ace9-9abab145c125",
   "metadata": {},
   "source": [
    "## Creating Features from a Bag of Words"
   ]
  },
  {
   "cell_type": "markdown",
   "id": "ba6072bf-0ce8-40a7-a724-cd12cd7b2064",
   "metadata": {},
   "source": [
    "Now that we've cleansed our movie reviews, we need to find a way to make them 'machine-learning' readable. One way is to use Bags of Words, which is a method that turns natural language sentences into a set of numbers. Firstly, this method creates a vocabulary, which contains all the unique words in the movie reviews. For each sentence, it goes through each word and counts how many times that word occurs in the sentence. This will result in a set of numbers for that sentence, which will be fed into the machine learning model for it to predict whether that sentence is positive or negative. This set of numbers is called feature vector. We'll now use this method for our IMDB movie reviews."
   ]
  },
  {
   "cell_type": "code",
   "execution_count": 13,
   "id": "c244d50c-4ec8-4886-9553-f1ca1ce171a2",
   "metadata": {},
   "outputs": [
    {
     "name": "stdout",
     "output_type": "stream",
     "text": [
      "Creating the bag of words...\n",
      "\n"
     ]
    }
   ],
   "source": [
    "print(\"Creating the bag of words...\\n\")\n",
    "\n",
    "# Instantiating the \"CountVectorizer\" object which learns a vocabulary and transforms other data using the vocabulary into feature vectors\n",
    "vectorizer = CountVectorizer(analyzer = \"word\", \\\n",
    "                            tokenizer = None,  \\\n",
    "                            preprocessor = None, \\\n",
    "                            stop_words = None, \\\n",
    "                            max_features = 5000)\n",
    " \n",
    "# 1) Fitting the model and learning the vocabulary; \n",
    "# 2) Transforming the training data (using the vocabulary just learnt) into feature vectors\n",
    "train_data_features = vectorizer.fit_transform(clean_train_reviews) # the input is a list of strings \n",
    "                             \n",
    "# Converting the result into an np.array since it is easier to work with\n",
    "train_data_features = train_data_features.toarray()"
   ]
  },
  {
   "cell_type": "markdown",
   "id": "2564bc50-8503-4392-b9e5-0b932f9d630e",
   "metadata": {},
   "source": [
    "We can note from the code cell above that CountVectorizer can automatically do preprocessing, tokenisation, and stop word removal. However, we wanted to create our own function to practice data cleansing techniques step by step."
   ]
  },
  {
   "cell_type": "code",
   "execution_count": 14,
   "id": "a886f171-3e96-4ff8-8115-aebf678aecbd",
   "metadata": {},
   "outputs": [
    {
     "name": "stdout",
     "output_type": "stream",
     "text": [
      "(25000, 5000)\n"
     ]
    }
   ],
   "source": [
    "# Seeing how the training data array looks like\n",
    "print(train_data_features.shape)"
   ]
  },
  {
   "cell_type": "code",
   "execution_count": 15,
   "id": "1789c697-79b8-4a8a-bdc1-8137a6651b46",
   "metadata": {},
   "outputs": [
    {
     "name": "stderr",
     "output_type": "stream",
     "text": [
      "/opt/homebrew/anaconda3/lib/python3.9/site-packages/sklearn/utils/deprecation.py:87: FutureWarning: Function get_feature_names is deprecated; get_feature_names is deprecated in 1.0 and will be removed in 1.2. Please use get_feature_names_out instead.\n",
      "  warnings.warn(msg, category=FutureWarning)\n"
     ]
    },
    {
     "data": {
      "text/plain": [
       "['abandoned',\n",
       " 'abc',\n",
       " 'abilities',\n",
       " 'ability',\n",
       " 'able',\n",
       " 'abraham',\n",
       " 'absence',\n",
       " 'absent',\n",
       " 'absolute',\n",
       " 'absolutely']"
      ]
     },
     "execution_count": 15,
     "metadata": {},
     "output_type": "execute_result"
    }
   ],
   "source": [
    "# Taking a look at the words in the vocabulary\n",
    "vocab = vectorizer.get_feature_names()\n",
    "\n",
    "# Outputting only the first ten words in the vocabulary\n",
    "vocab[:10]"
   ]
  },
  {
   "cell_type": "code",
   "execution_count": 16,
   "id": "020de220-ed5c-41e8-82b7-bbfa944693ce",
   "metadata": {},
   "outputs": [
    {
     "name": "stdout",
     "output_type": "stream",
     "text": [
      "[[0 0 0 ... 0 0 0]\n",
      " [0 0 0 ... 0 0 0]\n",
      " [0 0 0 ... 0 0 0]\n",
      " ...\n",
      " [0 0 0 ... 0 0 0]\n",
      " [0 0 0 ... 0 0 0]\n",
      " [0 0 0 ... 0 0 0]]\n"
     ]
    }
   ],
   "source": [
    "# Checking how the featured vectors for each movie review look like\n",
    "print(train_data_features)"
   ]
  },
  {
   "cell_type": "markdown",
   "id": "87431dba-66e4-4d59-b408-4b4c7c58ceb4",
   "metadata": {},
   "source": [
    "## Training the Random Forest Model"
   ]
  },
  {
   "cell_type": "code",
   "execution_count": 17,
   "id": "fb9cf82c-7413-4f1d-b7ed-15193b65b88e",
   "metadata": {},
   "outputs": [
    {
     "name": "stdout",
     "output_type": "stream",
     "text": [
      "Training the random forest...\n"
     ]
    }
   ],
   "source": [
    "print(\"Training the random forest...\")\n",
    "from sklearn.ensemble import RandomForestClassifier\n",
    "\n",
    "# Initializing a Random Forest classifier with 100 trees\n",
    "forest = RandomForestClassifier(n_estimators = 100) \n",
    "\n",
    "# Fitting the forest to the training set using the bag of words as features and the sentiment labels as the response variable\n",
    "forest = forest.fit(train_data_features, train[\"sentiment\"])"
   ]
  },
  {
   "cell_type": "markdown",
   "id": "e9529918-dce7-40c0-8b8b-306e2f12b128",
   "metadata": {
    "tags": []
   },
   "source": [
    "## Creating a Submission"
   ]
  },
  {
   "cell_type": "markdown",
   "id": "1bcabd8d-fcef-44ea-ae3d-d2f4f03d68af",
   "metadata": {},
   "source": [
    "Now we're ready to run the trained Random Forest classifier on our test set to create a submission file to upload on Kaggle. Let's go ahead and cleanse and parse the movie reviews in the test set first."
   ]
  },
  {
   "cell_type": "code",
   "execution_count": 18,
   "id": "83f51c2f-ec43-4048-a32b-602bd2c642c7",
   "metadata": {},
   "outputs": [],
   "source": [
    "# Reading in the test data\n",
    "test_data = pd.read_csv(\"/Users/giorgiadimiccoli/Desktop/repos/my_projects/data/bags_of_popcorn/word2vec-nlp-tutorial/testData.tsv.zip\", header=0, \\\n",
    "                    delimiter=\"\\t\", quoting=3) # header set as 0 since first line contains column names; quoting=3 tells Python to ignore doubled quotes to prevent errors "
   ]
  },
  {
   "cell_type": "code",
   "execution_count": 19,
   "id": "2629da6b-f549-4095-9e1b-a8e0fa0c3820",
   "metadata": {},
   "outputs": [
    {
     "data": {
      "text/html": [
       "<div>\n",
       "<style scoped>\n",
       "    .dataframe tbody tr th:only-of-type {\n",
       "        vertical-align: middle;\n",
       "    }\n",
       "\n",
       "    .dataframe tbody tr th {\n",
       "        vertical-align: top;\n",
       "    }\n",
       "\n",
       "    .dataframe thead th {\n",
       "        text-align: right;\n",
       "    }\n",
       "</style>\n",
       "<table border=\"1\" class=\"dataframe\">\n",
       "  <thead>\n",
       "    <tr style=\"text-align: right;\">\n",
       "      <th></th>\n",
       "      <th>id</th>\n",
       "      <th>review</th>\n",
       "    </tr>\n",
       "  </thead>\n",
       "  <tbody>\n",
       "    <tr>\n",
       "      <th>0</th>\n",
       "      <td>\"12311_10\"</td>\n",
       "      <td>\"Naturally in a film who's main themes are of ...</td>\n",
       "    </tr>\n",
       "    <tr>\n",
       "      <th>1</th>\n",
       "      <td>\"8348_2\"</td>\n",
       "      <td>\"This movie is a disaster within a disaster fi...</td>\n",
       "    </tr>\n",
       "    <tr>\n",
       "      <th>2</th>\n",
       "      <td>\"5828_4\"</td>\n",
       "      <td>\"All in all, this is a movie for kids. We saw ...</td>\n",
       "    </tr>\n",
       "    <tr>\n",
       "      <th>3</th>\n",
       "      <td>\"7186_2\"</td>\n",
       "      <td>\"Afraid of the Dark left me with the impressio...</td>\n",
       "    </tr>\n",
       "    <tr>\n",
       "      <th>4</th>\n",
       "      <td>\"12128_7\"</td>\n",
       "      <td>\"A very accurate depiction of small time mob l...</td>\n",
       "    </tr>\n",
       "    <tr>\n",
       "      <th>...</th>\n",
       "      <td>...</td>\n",
       "      <td>...</td>\n",
       "    </tr>\n",
       "    <tr>\n",
       "      <th>24995</th>\n",
       "      <td>\"2155_10\"</td>\n",
       "      <td>\"Sony Pictures Classics, I'm looking at you! S...</td>\n",
       "    </tr>\n",
       "    <tr>\n",
       "      <th>24996</th>\n",
       "      <td>\"59_10\"</td>\n",
       "      <td>\"I always felt that Ms. Merkerson had never go...</td>\n",
       "    </tr>\n",
       "    <tr>\n",
       "      <th>24997</th>\n",
       "      <td>\"2531_1\"</td>\n",
       "      <td>\"I was so disappointed in this movie. I am ver...</td>\n",
       "    </tr>\n",
       "    <tr>\n",
       "      <th>24998</th>\n",
       "      <td>\"7772_8\"</td>\n",
       "      <td>\"From the opening sequence, filled with black ...</td>\n",
       "    </tr>\n",
       "    <tr>\n",
       "      <th>24999</th>\n",
       "      <td>\"11465_10\"</td>\n",
       "      <td>\"This is a great horror film for people who do...</td>\n",
       "    </tr>\n",
       "  </tbody>\n",
       "</table>\n",
       "<p>25000 rows × 2 columns</p>\n",
       "</div>"
      ],
      "text/plain": [
       "               id                                             review\n",
       "0      \"12311_10\"  \"Naturally in a film who's main themes are of ...\n",
       "1        \"8348_2\"  \"This movie is a disaster within a disaster fi...\n",
       "2        \"5828_4\"  \"All in all, this is a movie for kids. We saw ...\n",
       "3        \"7186_2\"  \"Afraid of the Dark left me with the impressio...\n",
       "4       \"12128_7\"  \"A very accurate depiction of small time mob l...\n",
       "...           ...                                                ...\n",
       "24995   \"2155_10\"  \"Sony Pictures Classics, I'm looking at you! S...\n",
       "24996     \"59_10\"  \"I always felt that Ms. Merkerson had never go...\n",
       "24997    \"2531_1\"  \"I was so disappointed in this movie. I am ver...\n",
       "24998    \"7772_8\"  \"From the opening sequence, filled with black ...\n",
       "24999  \"11465_10\"  \"This is a great horror film for people who do...\n",
       "\n",
       "[25000 rows x 2 columns]"
      ]
     },
     "execution_count": 19,
     "metadata": {},
     "output_type": "execute_result"
    }
   ],
   "source": [
    "# Taking a look at the test data\n",
    "test_data"
   ]
  },
  {
   "cell_type": "code",
   "execution_count": 20,
   "id": "5a146891-90ae-4af3-9eb7-cb3f57527429",
   "metadata": {},
   "outputs": [
    {
     "name": "stdout",
     "output_type": "stream",
     "text": [
      "Cleaning and parsing the test set movie reviews...\n",
      "\n"
     ]
    },
    {
     "name": "stderr",
     "output_type": "stream",
     "text": [
      "/opt/homebrew/anaconda3/lib/python3.9/site-packages/bs4/__init__.py:435: MarkupResemblesLocatorWarning: The input looks more like a filename than markup. You may want to open this file and pass the filehandle into Beautiful Soup.\n",
      "  warnings.warn(\n"
     ]
    },
    {
     "name": "stdout",
     "output_type": "stream",
     "text": [
      "Review 1000 of 25000\n",
      "\n",
      "Review 2000 of 25000\n",
      "\n",
      "Review 3000 of 25000\n",
      "\n",
      "Review 4000 of 25000\n",
      "\n",
      "Review 5000 of 25000\n",
      "\n",
      "Review 6000 of 25000\n",
      "\n",
      "Review 7000 of 25000\n",
      "\n",
      "Review 8000 of 25000\n",
      "\n",
      "Review 9000 of 25000\n",
      "\n",
      "Review 10000 of 25000\n",
      "\n",
      "Review 11000 of 25000\n",
      "\n",
      "Review 12000 of 25000\n",
      "\n",
      "Review 13000 of 25000\n",
      "\n",
      "Review 14000 of 25000\n",
      "\n",
      "Review 15000 of 25000\n",
      "\n",
      "Review 16000 of 25000\n",
      "\n",
      "Review 17000 of 25000\n",
      "\n",
      "Review 18000 of 25000\n",
      "\n",
      "Review 19000 of 25000\n",
      "\n",
      "Review 20000 of 25000\n",
      "\n",
      "Review 21000 of 25000\n",
      "\n",
      "Review 22000 of 25000\n",
      "\n",
      "Review 23000 of 25000\n",
      "\n",
      "Review 24000 of 25000\n",
      "\n",
      "Review 25000 of 25000\n",
      "\n"
     ]
    }
   ],
   "source": [
    "# Cleansing and parsing movie reviews in the test set\n",
    "\n",
    "# Selecting only the reviews from the test data set\n",
    "num_reviews = len(test_data['review']) \n",
    "\n",
    "# Creating an empty list to store the clean test reviews\n",
    "clean_test_reviews = [] \n",
    "\n",
    "# Iterating through each review \n",
    "print(\"Cleaning and parsing the test set movie reviews...\\n\")\n",
    "for i in range(0, num_reviews):\n",
    "    # Creating an index i that goes from 0 to the length of the movie review list\n",
    "    if((i+1) % 1000 == 0): # if the index is evenly divisible by 1000, print a message\n",
    "        print(\"Review %d of %d\\n\" % (i+1, num_reviews)) # printing a status update to avoid annoyances \n",
    "    # Calling our function for each one, and appending the result to the list of cleansed reviews \n",
    "    clean_review = review_to_words(test_data['review'][i])\n",
    "    clean_test_reviews.append(clean_review)"
   ]
  },
  {
   "cell_type": "code",
   "execution_count": 21,
   "id": "cd5a4b3f-0828-45f8-92e7-d116dd105ec8",
   "metadata": {},
   "outputs": [],
   "source": [
    "# Getting a bag of words for the test set and converting it to a numpy array \n",
    "test_data_features = vectorizer.transform(clean_test_reviews)\n",
    "test_data_features = test_data_features.toarray()"
   ]
  },
  {
   "cell_type": "code",
   "execution_count": 22,
   "id": "1250e1a1-2966-45df-b7db-556449dca570",
   "metadata": {},
   "outputs": [],
   "source": [
    "# Making sentiment label predictions with the Random Forest classifier we previously trained\n",
    "result = forest.predict(test_data_features)"
   ]
  },
  {
   "cell_type": "code",
   "execution_count": 23,
   "id": "91d8dd23-69fe-4f33-bce6-362c3cb1c216",
   "metadata": {},
   "outputs": [],
   "source": [
    "# Copying the results to a pandas dataframe \n",
    "output = pd.DataFrame(data={\"id\":test_data[\"id\"], \"sentiment\":result})"
   ]
  },
  {
   "cell_type": "code",
   "execution_count": 24,
   "id": "84cb07e8-f2ae-47e5-95c7-59f26a3cee71",
   "metadata": {},
   "outputs": [],
   "source": [
    "# Writing the comma-separated output file through pandas\n",
    "output.to_csv(\"Bag_of_words_model.csv\", index=False, quoting=3)"
   ]
  },
  {
   "cell_type": "markdown",
   "id": "6b10deec-c440-4778-9499-03475733f2d5",
   "metadata": {},
   "source": [
    "## Initial Results"
   ]
  },
  {
   "cell_type": "code",
   "execution_count": 26,
   "id": "bdcbfea5-9ff8-4cf6-9496-dfed121991e4",
   "metadata": {},
   "outputs": [
    {
     "data": {
      "image/png": "[encoded data removed]",
      "text/plain": [
       "<IPython.core.display.Image object>"
      ]
     },
     "metadata": {},
     "output_type": "display_data"
    }
   ],
   "source": [
    "display(Image(filename='bag_of_words_results_1.png'))"
   ]
  },
  {
   "cell_type": "markdown",
   "id": "b820550f-49e6-4150-846a-c0e2c8855f60",
   "metadata": {},
   "source": [
    "Our trained model is scoring 0.79824 in prediction accuracy. Let's try to explore more feature engineering techniques and see if we can improve the score. One thing that we could do is apply Porter Stemming. This is a natural language processing technique used to treat words such as \"messages\", \"message\", and \"messaging\" as the same word. Let's try to apply this technique to our dataset. "
   ]
  },
  {
   "cell_type": "markdown",
   "id": "ca88020a-d955-4e63-8506-8eeec7ff339e",
   "metadata": {
    "tags": []
   },
   "source": [
    "## Feature Engineering: Implementing Porter Stemming"
   ]
  },
  {
   "cell_type": "code",
   "execution_count": 28,
   "id": "f1fcd7ef-06c8-49d6-a5ea-b932fdfedbb0",
   "metadata": {},
   "outputs": [],
   "source": [
    "# Normalising words to shorten the lookup\n",
    "from nltk.stem.porter import *\n",
    "\n",
    "ps = PorterStemmer() # assigning the PorterStemmer to a variable named ps \n",
    "\n",
    "stemmed_list = []\n",
    "\n",
    "for word in words:\n",
    "    stemmed_word = ps.stem(word)\n",
    "    stemmed_list.append(stemmed_word)"
   ]
  },
  {
   "cell_type": "code",
   "execution_count": 29,
   "id": "c0818ec2-4678-449c-9233-7e2a7e2e0542",
   "metadata": {},
   "outputs": [
    {
     "name": "stdout",
     "output_type": "stream",
     "text": [
      "['stuff', 'go', 'moment', 'mj', 'start', 'listen', 'music', 'watch', 'odd', 'documentari', 'watch', 'wiz', 'watch', 'moonwalk', 'mayb', 'want', 'get', 'certain', 'insight', 'guy', 'thought', 'realli', 'cool', 'eighti', 'mayb', 'make', 'mind', 'whether', 'guilti', 'innoc', 'moonwalk', 'part', 'biographi', 'part', 'featur', 'film', 'rememb', 'go', 'see', 'cinema', 'origin', 'releas', 'subtl', 'messag', 'mj', 'feel', 'toward', 'press', 'also', 'obviou', 'messag', 'drug', 'bad', 'kay', 'visual', 'impress', 'cours', 'michael', 'jackson', 'unless', 'remot', 'like', 'mj', 'anyway', 'go', 'hate', 'find', 'bore', 'may', 'call', 'mj', 'egotist', 'consent', 'make', 'movi', 'mj', 'fan', 'would', 'say', 'made', 'fan', 'true', 'realli', 'nice', 'actual', 'featur', 'film', 'bit', 'final', 'start', 'minut', 'exclud', 'smooth', 'crimin', 'sequenc', 'joe', 'pesci', 'convinc', 'psychopath', 'power', 'drug', 'lord', 'want', 'mj', 'dead', 'bad', 'beyond', 'mj', 'overheard', 'plan', 'nah', 'joe', 'pesci', 'charact', 'rant', 'want', 'peopl', 'know', 'suppli', 'drug', 'etc', 'dunno', 'mayb', 'hate', 'mj', 'music', 'lot', 'cool', 'thing', 'like', 'mj', 'turn', 'car', 'robot', 'whole', 'speed', 'demon', 'sequenc', 'also', 'director', 'must', 'patienc', 'saint', 'came', 'film', 'kiddi', 'bad', 'sequenc', 'usual', 'director', 'hate', 'work', 'one', 'kid', 'let', 'alon', 'whole', 'bunch', 'perform', 'complex', 'danc', 'scene', 'bottom', 'line', 'movi', 'peopl', 'like', 'mj', 'one', 'level', 'anoth', 'think', 'peopl', 'stay', 'away', 'tri', 'give', 'wholesom', 'messag', 'iron', 'mj', 'bestest', 'buddi', 'movi', 'girl', 'michael', 'jackson', 'truli', 'one', 'talent', 'peopl', 'ever', 'grace', 'planet', 'guilti', 'well', 'attent', 'gave', 'subject', 'hmmm', 'well', 'know', 'peopl', 'differ', 'behind', 'close', 'door', 'know', 'fact', 'either', 'extrem', 'nice', 'stupid', 'guy', 'one', 'sickest', 'liar', 'hope', 'latter']\n"
     ]
    }
   ],
   "source": [
    "print(stemmed_list)"
   ]
  },
  {
   "cell_type": "code",
   "execution_count": 30,
   "id": "3f557c08-cd8b-45af-91d1-5e5221c577b0",
   "metadata": {},
   "outputs": [],
   "source": [
    "# Adding porter stemming to the cleansing function we initially created\n",
    "\n",
    "# Creating a function that converts a raw review into a string of words \n",
    "def review_to_words(raw_review):\n",
    "    \n",
    "    # Removing HTML\n",
    "    review_text = BeautifulSoup(raw_review).get_text() # get_text gives us the text of the review without any tags or markups \n",
    "    \n",
    "    # Removing non-letters        \n",
    "    letters_only = re.sub(\"[^a-zA-Z]\", \" \", review_text) \n",
    "    \n",
    "    # Converting to lower case and splitting into individual words\n",
    "    words = letters_only.lower().split()                             \n",
    "    \n",
    "    # Converting the stop words to a set\n",
    "    stops = set(stopwords.words(\"english\")) # searching a set is much faster than searching a list since it removes duplicates\n",
    "    \n",
    "    # Removing stop words\n",
    "    meaningful_words = [w for w in words if not w in stops]  \n",
    "    \n",
    "    # Normalising words to shorten the lookup\n",
    "    final_list_of_words = []\n",
    "\n",
    "    for word in meaningful_words:\n",
    "        stemmed_word = ps.stem(word)\n",
    "        final_list_of_words.append(stemmed_word)\n",
    "        \n",
    "    # Joining the words back into one string separated by space\n",
    "    return(\" \".join(final_list_of_words)) # making the output easier to use in our Bag of Words "
   ]
  },
  {
   "cell_type": "code",
   "execution_count": 31,
   "id": "8fdb4004-c586-42e7-b7f4-d090f360a56f",
   "metadata": {},
   "outputs": [
    {
     "name": "stdout",
     "output_type": "stream",
     "text": [
      "stuff go moment mj start listen music watch odd documentari watch wiz watch moonwalk mayb want get certain insight guy thought realli cool eighti mayb make mind whether guilti innoc moonwalk part biographi part featur film rememb go see cinema origin releas subtl messag mj feel toward press also obviou messag drug bad kay visual impress cours michael jackson unless remot like mj anyway go hate find bore may call mj egotist consent make movi mj fan would say made fan true realli nice actual featur film bit final start minut exclud smooth crimin sequenc joe pesci convinc psychopath power drug lord want mj dead bad beyond mj overheard plan nah joe pesci charact rant want peopl know suppli drug etc dunno mayb hate mj music lot cool thing like mj turn car robot whole speed demon sequenc also director must patienc saint came film kiddi bad sequenc usual director hate work one kid let alon whole bunch perform complex danc scene bottom line movi peopl like mj one level anoth think peopl stay away tri give wholesom messag iron mj bestest buddi movi girl michael jackson truli one talent peopl ever grace planet guilti well attent gave subject hmmm well know peopl differ behind close door know fact either extrem nice stupid guy one sickest liar hope latter\n"
     ]
    }
   ],
   "source": [
    "# Calling the function for a single review\n",
    "clean_review = review_to_words(train[\"review\"][0])\n",
    "print(clean_review)"
   ]
  },
  {
   "cell_type": "markdown",
   "id": "1661d4e9-54b6-4e5d-9b33-079082be95cb",
   "metadata": {},
   "source": [
    "As we can see above, the function now takes in some text as input and outputs stemmed words. Let's now apply the function to the training dataset, create the bag of words, training the model, and making another submission to check if the model performs better. "
   ]
  },
  {
   "cell_type": "markdown",
   "id": "991268ed-1a91-438f-8f4a-a2a6595683a4",
   "metadata": {},
   "source": [
    "## Reapplying the New Cleansing Function to the Train Data"
   ]
  },
  {
   "cell_type": "code",
   "execution_count": 32,
   "id": "7f95e43f-32f3-462b-bb5a-11ce95f3b218",
   "metadata": {},
   "outputs": [
    {
     "name": "stdout",
     "output_type": "stream",
     "text": [
      "Cleaning and parsing the training set movie reviews...\n",
      "\n"
     ]
    },
    {
     "name": "stderr",
     "output_type": "stream",
     "text": [
      "/opt/homebrew/anaconda3/lib/python3.9/site-packages/bs4/__init__.py:435: MarkupResemblesLocatorWarning: The input looks more like a filename than markup. You may want to open this file and pass the filehandle into Beautiful Soup.\n",
      "  warnings.warn(\n"
     ]
    },
    {
     "name": "stdout",
     "output_type": "stream",
     "text": [
      "Review 1000 of 25000\n",
      "\n",
      "Review 2000 of 25000\n",
      "\n",
      "Review 3000 of 25000\n",
      "\n",
      "Review 4000 of 25000\n",
      "\n",
      "Review 5000 of 25000\n",
      "\n",
      "Review 6000 of 25000\n",
      "\n",
      "Review 7000 of 25000\n",
      "\n",
      "Review 8000 of 25000\n",
      "\n",
      "Review 9000 of 25000\n",
      "\n",
      "Review 10000 of 25000\n",
      "\n",
      "Review 11000 of 25000\n",
      "\n",
      "Review 12000 of 25000\n",
      "\n",
      "Review 13000 of 25000\n",
      "\n",
      "Review 14000 of 25000\n",
      "\n",
      "Review 15000 of 25000\n",
      "\n",
      "Review 16000 of 25000\n",
      "\n",
      "Review 17000 of 25000\n",
      "\n",
      "Review 18000 of 25000\n",
      "\n",
      "Review 19000 of 25000\n",
      "\n",
      "Review 20000 of 25000\n",
      "\n",
      "Review 21000 of 25000\n",
      "\n",
      "Review 22000 of 25000\n",
      "\n",
      "Review 23000 of 25000\n",
      "\n",
      "Review 24000 of 25000\n",
      "\n",
      "Review 25000 of 25000\n",
      "\n"
     ]
    }
   ],
   "source": [
    "# Getting the number of reviews based on the dataframe column size\n",
    "num_reviews_2 = train[\"review\"].size\n",
    "\n",
    "# Initializing an empty list to hold the cleansed reviews\n",
    "print(\"Cleaning and parsing the training set movie reviews...\\n\") # this will make the output easier to use in our Bag of Words \n",
    "clean_train_reviews_2 = [] \n",
    "\n",
    "# Looping over each review\n",
    "for i in range(0, num_reviews_2): # creating an index i that goes from 0 to the length of the movie review list\n",
    "    if( (i+1)%1000 == 0): # if the index is evenly divisible by 1000, print a message\n",
    "        print(\"Review %d of %d\\n\" % ( i+1, num_reviews )) # printing a status update to avoid annoyances \n",
    "    # Calling our function for each one, and appending the result to the list of cleansed reviews \n",
    "    clean_train_reviews_2.append(review_to_words(train[\"review\"][i])) "
   ]
  },
  {
   "cell_type": "markdown",
   "id": "0f64e06e-464e-4b8e-9062-283b42475f23",
   "metadata": {},
   "source": [
    "## Recreating Features from a Bag of Words"
   ]
  },
  {
   "cell_type": "code",
   "execution_count": 33,
   "id": "9e312d9c-c91d-42e7-9ad7-65dc2330e365",
   "metadata": {},
   "outputs": [
    {
     "name": "stdout",
     "output_type": "stream",
     "text": [
      "Creating the bag of words...\n",
      "\n"
     ]
    }
   ],
   "source": [
    "print(\"Creating the bag of words...\\n\")\n",
    "\n",
    "# Instantiating the \"CountVectorizer\" object which learns a vocabulary and transforms other data using the vocabulary into feature vectors\n",
    "vectorizer_2 = CountVectorizer(analyzer = \"word\", \\\n",
    "                            tokenizer = None,  \\\n",
    "                            preprocessor = None, \\\n",
    "                            stop_words = None, \\\n",
    "                            max_features = 5000)\n",
    " \n",
    "# 1) Fitting the model and learning the vocabulary; \n",
    "# 2) Transforming the training data (using the vocabulary just learnt) into feature vectors\n",
    "train_data_features_2 = vectorizer_2.fit_transform(clean_train_reviews_2) # the input is a list of strings \n",
    "                             \n",
    "# Converting the result into an np.array since it is easier to work with\n",
    "train_data_features_2 = train_data_features_2.toarray()"
   ]
  },
  {
   "cell_type": "markdown",
   "id": "5a2ec5f6-6f4d-4fcf-9b52-733ec22bf792",
   "metadata": {},
   "source": [
    "## Retraining the Random Forest Model"
   ]
  },
  {
   "cell_type": "code",
   "execution_count": 34,
   "id": "122d236e-8de0-40a0-830a-189166d6ac6a",
   "metadata": {},
   "outputs": [
    {
     "name": "stdout",
     "output_type": "stream",
     "text": [
      "Training the random forest...\n"
     ]
    }
   ],
   "source": [
    "print(\"Training the random forest...\")\n",
    "from sklearn.ensemble import RandomForestClassifier\n",
    "\n",
    "# Initializing a Random Forest classifier with 100 trees\n",
    "forest_2 = RandomForestClassifier(n_estimators = 100) \n",
    "\n",
    "# Fitting the forest to the training set using the bag of words as features and the sentiment labels as the response variable\n",
    "forest_2 = forest_2.fit(train_data_features_2, train[\"sentiment\"])"
   ]
  },
  {
   "cell_type": "markdown",
   "id": "c592d084-33e0-4867-929b-f05836dcf42f",
   "metadata": {},
   "source": [
    "## Recreating a Submission"
   ]
  },
  {
   "cell_type": "code",
   "execution_count": 35,
   "id": "1baaf063-c154-423c-aa6a-e03fd6ec8602",
   "metadata": {},
   "outputs": [
    {
     "name": "stdout",
     "output_type": "stream",
     "text": [
      "Cleaning and parsing the test set movie reviews...\n",
      "\n"
     ]
    },
    {
     "name": "stderr",
     "output_type": "stream",
     "text": [
      "/opt/homebrew/anaconda3/lib/python3.9/site-packages/bs4/__init__.py:435: MarkupResemblesLocatorWarning: The input looks more like a filename than markup. You may want to open this file and pass the filehandle into Beautiful Soup.\n",
      "  warnings.warn(\n"
     ]
    },
    {
     "name": "stdout",
     "output_type": "stream",
     "text": [
      "Review 1000 of 25000\n",
      "\n",
      "Review 2000 of 25000\n",
      "\n",
      "Review 3000 of 25000\n",
      "\n",
      "Review 4000 of 25000\n",
      "\n",
      "Review 5000 of 25000\n",
      "\n",
      "Review 6000 of 25000\n",
      "\n",
      "Review 7000 of 25000\n",
      "\n",
      "Review 8000 of 25000\n",
      "\n",
      "Review 9000 of 25000\n",
      "\n",
      "Review 10000 of 25000\n",
      "\n",
      "Review 11000 of 25000\n",
      "\n",
      "Review 12000 of 25000\n",
      "\n",
      "Review 13000 of 25000\n",
      "\n",
      "Review 14000 of 25000\n",
      "\n",
      "Review 15000 of 25000\n",
      "\n",
      "Review 16000 of 25000\n",
      "\n",
      "Review 17000 of 25000\n",
      "\n",
      "Review 18000 of 25000\n",
      "\n",
      "Review 19000 of 25000\n",
      "\n",
      "Review 20000 of 25000\n",
      "\n",
      "Review 21000 of 25000\n",
      "\n",
      "Review 22000 of 25000\n",
      "\n",
      "Review 23000 of 25000\n",
      "\n",
      "Review 24000 of 25000\n",
      "\n",
      "Review 25000 of 25000\n",
      "\n"
     ]
    }
   ],
   "source": [
    "# Cleansing and parsing movie reviews in the test set\n",
    "\n",
    "# Selecting only the reviews from the test data set\n",
    "num_reviews_2 = len(test_data['review']) \n",
    "\n",
    "# Creating an empty list to store the clean test reviews\n",
    "clean_test_reviews_2 = [] \n",
    "\n",
    "# Iterating through each review \n",
    "print(\"Cleaning and parsing the test set movie reviews...\\n\")\n",
    "for i in range(0, num_reviews_2):\n",
    "    # Creating an index i that goes from 0 to the length of the movie review list\n",
    "    if((i+1) % 1000 == 0): # if the index is evenly divisible by 1000, print a message\n",
    "        print(\"Review %d of %d\\n\" % (i+1, num_reviews)) # printing a status update to avoid annoyances \n",
    "    # Calling our function for each one, and appending the result to the list of cleansed reviews \n",
    "    clean_review_2 = review_to_words(test_data['review'][i])\n",
    "    clean_test_reviews_2.append(clean_review_2)"
   ]
  },
  {
   "cell_type": "code",
   "execution_count": 37,
   "id": "5c7b9e4f-f02d-4467-a388-e4616bf1bc76",
   "metadata": {},
   "outputs": [],
   "source": [
    "# Regetting a bag of words for the test set and converting it to a numpy array \n",
    "test_data_features_2 = vectorizer_2.transform(clean_test_reviews_2)\n",
    "test_data_features_2 = test_data_features_2.toarray()"
   ]
  },
  {
   "cell_type": "code",
   "execution_count": 38,
   "id": "67b773bf-4a6b-47fd-ba2f-f28f719c351c",
   "metadata": {},
   "outputs": [],
   "source": [
    "# Making sentiment label predictions again with the retrained Random Forest classifier\n",
    "result_2 = forest_2.predict(test_data_features_2)"
   ]
  },
  {
   "cell_type": "code",
   "execution_count": 39,
   "id": "80dea3ad-af55-4331-8036-0b2673e69e80",
   "metadata": {},
   "outputs": [],
   "source": [
    "# Copying the results to a pandas dataframe \n",
    "output_2 = pd.DataFrame(data={\"id\":test_data[\"id\"], \"sentiment\":result_2})"
   ]
  },
  {
   "cell_type": "code",
   "execution_count": 41,
   "id": "1be0172b-76df-4a35-beaf-588bdc596846",
   "metadata": {},
   "outputs": [],
   "source": [
    "# Writing the comma-separated output file through pandas\n",
    "output_2.to_csv(\"Bag_of_words_model_2.csv\", index=False, quoting=3)"
   ]
  },
  {
   "cell_type": "markdown",
   "id": "6496e3b9-87da-4f8e-8be0-3b47546798b3",
   "metadata": {},
   "source": [
    "# Final Results"
   ]
  },
  {
   "cell_type": "code",
   "execution_count": 42,
   "id": "ee703b92-3229-4292-b860-b171a553f66d",
   "metadata": {},
   "outputs": [
    {
     "data": {
      "image/png": "[encoded data removed]",
      "text/plain": [
       "<IPython.core.display.Image object>"
      ]
     },
     "metadata": {},
     "output_type": "display_data"
    }
   ],
   "source": [
    "display(Image(filename='bag_of_words_results_2.png'))"
   ]
  },
  {
   "cell_type": "markdown",
   "id": "324dd409-5817-4838-815b-279a31bd259b",
   "metadata": {},
   "source": [
    "It looks like our model improved from a score of 0.79824 to 0.84412! However, this is not a statistically significant improvement. Let's note that each model has a degree of randomness. As a next step to estimate proper performance, it would be advised to train the model five times with different random seeds, different shuffling of the training and testing data, and get an estimate of the mean performance and the standard deviation performance. "
   ]
  },
  {
   "cell_type": "markdown",
   "id": "9e9f2bf6-8210-4daa-83a5-20915b4b0b02",
   "metadata": {},
   "source": [
    "# Conclusion"
   ]
  },
  {
   "cell_type": "markdown",
   "id": "76bd652e-080f-4218-9b45-8d3889b95a96",
   "metadata": {},
   "source": [
    "The purpose of this project was to understand the sentiments behind IBDM movie reviews. We used Google's Word2Vec, a deep-learning method that investigates on the meaning behind words. After having loaded and cleansed the 25,000 IMDB movie reviews, we applied simple natural language processing model called Bag of Words to get predictions on whether the reviews were positive or negative.\n",
    "\n",
    "The most important results we found are the following:\n",
    "\n",
    "- The model initially scored 0.79824 in prediction accuracy. The gfeature engineering techniques used included: removing HTML markups, punctuations, numbers, and stopwords.\n",
    "- The model eventually reached a 0.84412 accuracy score. This might be because Porter Stemming, an additional feature engineering technique, was used to train the model. However, it must be mentioned that this result is not statistically significant. Every model comes with a degree of randomness, and this might be the actual reason why there has been a slight increase in the final score.\n",
    "- Further steps to improve the accuracy estimation process include but are not limited to: training the model numerous times, using different random seeds, using different shuffling of the training and testing data, and get an estimate of the mean performance and the standard deviation performance.\n",
    "- Other feature engineering techniques to use can be: cleaning the reviews in an alternative way, choosing other number of vocabulary words for the Bag of Words representation, or using another classifier."
   ]
  }
 ],
 "metadata": {
  "kernelspec": {
   "display_name": "Python 3 (ipykernel)",
   "language": "python",
   "name": "python3"
  },
  "language_info": {
   "codemirror_mode": {
    "name": "ipython",
    "version": 3
   },
   "file_extension": ".py",
   "mimetype": "text/x-python",
   "name": "python",
   "nbconvert_exporter": "python",
   "pygments_lexer": "ipython3",
   "version": "3.9.12"
  }
 },
 "nbformat": 4,
 "nbformat_minor": 5
}
